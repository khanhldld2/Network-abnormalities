{
 "cells": [
  {
   "cell_type": "code",
   "execution_count": 1,
   "metadata": {},
   "outputs": [],
   "source": [
    "import pandas as pd\n",
    "import matplotlib.pyplot as plt\n",
    "import seaborn as sns\n",
    "import numpy as np\n",
    "import joblib\n"
   ]
  },
  {
   "cell_type": "code",
   "execution_count": 2,
   "metadata": {},
   "outputs": [],
   "source": [
    "import os \n",
    "from datetime import date"
   ]
  },
  {
   "cell_type": "code",
   "execution_count": 3,
   "metadata": {},
   "outputs": [],
   "source": [
    "today = date.today()\n",
    "root_path = './Data/MachineLearningCVE/'\n",
    "output_path = f'.\\Data\\Cypher-CICIDS2017-{today}.csv'"
   ]
  },
  {
   "cell_type": "code",
   "execution_count": 4,
   "metadata": {},
   "outputs": [],
   "source": [
    "all_dataframes = []"
   ]
  },
  {
   "cell_type": "code",
   "execution_count": 5,
   "metadata": {},
   "outputs": [],
   "source": [
    "if os.path.join(root_path):\n",
    "    for csv_file in os.listdir(root_path):\n",
    "        if csv_file.endswith('.csv'):\n",
    "            csv_path = os.path.join(root_path+csv_file)\n",
    "            df = pd.read_csv(csv_path)\n",
    "            df['SourceFile'] = csv_file.strip().split('.csv')[0]\n",
    "            all_dataframes.append(df)\n",
    "\n",
    "else:\n",
    "    print(\"cant join\")"
   ]
  },
  {
   "cell_type": "code",
   "execution_count": 6,
   "metadata": {},
   "outputs": [],
   "source": [
    "# Gộp tất cả DataFrame thành một\n",
    "metadata_df = pd.concat(all_dataframes, ignore_index=True)\n",
    "# Xóa khoảng cách trong tên cột\n",
    "metadata_df.columns = metadata_df.columns.str.replace(' ', '')"
   ]
  },
  {
   "cell_type": "code",
   "execution_count": 7,
   "metadata": {},
   "outputs": [],
   "source": [
    "metadata_df.rename(columns={'FlowBytes/s': 'FlowBytesPerSec',\n",
    "                   'FlowPackets/s': 'FlowPacketsPerSec',\n",
    "                   'FwdPackets/s': 'FwdPacketsPerSec',\n",
    "                   'BwdPackets/s': 'BwdPacketsPerSec',\n",
    "                   'Down/UpRatio': 'DownUpRatio',\n",
    "                   'FwdAvgBytes/Bulk': 'FwdAvgBytesPerBulk',\n",
    "                   'FwdAvgPackets/Bulk': 'FwdAvgPacketsPerBulk',\n",
    "                   'BwdAvgBytes/Bulk': 'BwdAvgBytesPerBulk',\n",
    "                   'BwdAvgPackets/Bulk': 'BwdAvgPacketsPerBulk',\n",
    "                   'FwdHeaderLength.1': 'FwdHeaderLength_1'},\n",
    "          inplace=True, errors='raise')\n"
   ]
  },
  {
   "cell_type": "code",
   "execution_count": 8,
   "metadata": {},
   "outputs": [],
   "source": [
    "# Lưu DataFrame thành file CSV mới\n",
    "metadata_df.to_csv(output_path,encoding='utf-8-sig', index=False)"
   ]
  },
  {
   "cell_type": "code",
   "execution_count": 9,
   "metadata": {},
   "outputs": [
    {
     "name": "stdout",
     "output_type": "stream",
     "text": [
      "   DestinationPort  FlowDuration  TotalFwdPackets  TotalBackwardPackets  \\\n",
      "0            54865             3                2                     0   \n",
      "1            55054           109                1                     1   \n",
      "2            55055            52                1                     1   \n",
      "3            46236            34                1                     1   \n",
      "4            54863             3                2                     0   \n",
      "\n",
      "   TotalLengthofFwdPackets  TotalLengthofBwdPackets  FwdPacketLengthMax  \\\n",
      "0                       12                        0                   6   \n",
      "1                        6                        6                   6   \n",
      "2                        6                        6                   6   \n",
      "3                        6                        6                   6   \n",
      "4                       12                        0                   6   \n",
      "\n",
      "   FwdPacketLengthMin  FwdPacketLengthMean  FwdPacketLengthStd  ...  \\\n",
      "0                   6                  6.0                 0.0  ...   \n",
      "1                   6                  6.0                 0.0  ...   \n",
      "2                   6                  6.0                 0.0  ...   \n",
      "3                   6                  6.0                 0.0  ...   \n",
      "4                   6                  6.0                 0.0  ...   \n",
      "\n",
      "   ActiveMean  ActiveStd  ActiveMax  ActiveMin  IdleMean  IdleStd  IdleMax  \\\n",
      "0         0.0        0.0          0          0       0.0      0.0        0   \n",
      "1         0.0        0.0          0          0       0.0      0.0        0   \n",
      "2         0.0        0.0          0          0       0.0      0.0        0   \n",
      "3         0.0        0.0          0          0       0.0      0.0        0   \n",
      "4         0.0        0.0          0          0       0.0      0.0        0   \n",
      "\n",
      "   IdleMin   Label                                    SourceFile  \n",
      "0        0  BENIGN  Friday-WorkingHours-Afternoon-DDos.pcap_ISCX  \n",
      "1        0  BENIGN  Friday-WorkingHours-Afternoon-DDos.pcap_ISCX  \n",
      "2        0  BENIGN  Friday-WorkingHours-Afternoon-DDos.pcap_ISCX  \n",
      "3        0  BENIGN  Friday-WorkingHours-Afternoon-DDos.pcap_ISCX  \n",
      "4        0  BENIGN  Friday-WorkingHours-Afternoon-DDos.pcap_ISCX  \n",
      "\n",
      "[5 rows x 80 columns]\n",
      "<class 'pandas.core.frame.DataFrame'>\n",
      "RangeIndex: 2830743 entries, 0 to 2830742\n",
      "Data columns (total 80 columns):\n",
      " #   Column                   Dtype  \n",
      "---  ------                   -----  \n",
      " 0   DestinationPort          int64  \n",
      " 1   FlowDuration             int64  \n",
      " 2   TotalFwdPackets          int64  \n",
      " 3   TotalBackwardPackets     int64  \n",
      " 4   TotalLengthofFwdPackets  int64  \n",
      " 5   TotalLengthofBwdPackets  int64  \n",
      " 6   FwdPacketLengthMax       int64  \n",
      " 7   FwdPacketLengthMin       int64  \n",
      " 8   FwdPacketLengthMean      float64\n",
      " 9   FwdPacketLengthStd       float64\n",
      " 10  BwdPacketLengthMax       int64  \n",
      " 11  BwdPacketLengthMin       int64  \n",
      " 12  BwdPacketLengthMean      float64\n",
      " 13  BwdPacketLengthStd       float64\n",
      " 14  FlowBytesPerSec          float64\n",
      " 15  FlowPacketsPerSec        float64\n",
      " 16  FlowIATMean              float64\n",
      " 17  FlowIATStd               float64\n",
      " 18  FlowIATMax               int64  \n",
      " 19  FlowIATMin               int64  \n",
      " 20  FwdIATTotal              int64  \n",
      " 21  FwdIATMean               float64\n",
      " 22  FwdIATStd                float64\n",
      " 23  FwdIATMax                int64  \n",
      " 24  FwdIATMin                int64  \n",
      " 25  BwdIATTotal              int64  \n",
      " 26  BwdIATMean               float64\n",
      " 27  BwdIATStd                float64\n",
      " 28  BwdIATMax                int64  \n",
      " 29  BwdIATMin                int64  \n",
      " 30  FwdPSHFlags              int64  \n",
      " 31  BwdPSHFlags              int64  \n",
      " 32  FwdURGFlags              int64  \n",
      " 33  BwdURGFlags              int64  \n",
      " 34  FwdHeaderLength          int64  \n",
      " 35  BwdHeaderLength          int64  \n",
      " 36  FwdPacketsPerSec         float64\n",
      " 37  BwdPacketsPerSec         float64\n",
      " 38  MinPacketLength          int64  \n",
      " 39  MaxPacketLength          int64  \n",
      " 40  PacketLengthMean         float64\n",
      " 41  PacketLengthStd          float64\n",
      " 42  PacketLengthVariance     float64\n",
      " 43  FINFlagCount             int64  \n",
      " 44  SYNFlagCount             int64  \n",
      " 45  RSTFlagCount             int64  \n",
      " 46  PSHFlagCount             int64  \n",
      " 47  ACKFlagCount             int64  \n",
      " 48  URGFlagCount             int64  \n",
      " 49  CWEFlagCount             int64  \n",
      " 50  ECEFlagCount             int64  \n",
      " 51  DownUpRatio              int64  \n",
      " 52  AveragePacketSize        float64\n",
      " 53  AvgFwdSegmentSize        float64\n",
      " 54  AvgBwdSegmentSize        float64\n",
      " 55  FwdHeaderLength_1        int64  \n",
      " 56  FwdAvgBytesPerBulk       int64  \n",
      " 57  FwdAvgPacketsPerBulk     int64  \n",
      " 58  FwdAvgBulkRate           int64  \n",
      " 59  BwdAvgBytesPerBulk       int64  \n",
      " 60  BwdAvgPacketsPerBulk     int64  \n",
      " 61  BwdAvgBulkRate           int64  \n",
      " 62  SubflowFwdPackets        int64  \n",
      " 63  SubflowFwdBytes          int64  \n",
      " 64  SubflowBwdPackets        int64  \n",
      " 65  SubflowBwdBytes          int64  \n",
      " 66  Init_Win_bytes_forward   int64  \n",
      " 67  Init_Win_bytes_backward  int64  \n",
      " 68  act_data_pkt_fwd         int64  \n",
      " 69  min_seg_size_forward     int64  \n",
      " 70  ActiveMean               float64\n",
      " 71  ActiveStd                float64\n",
      " 72  ActiveMax                int64  \n",
      " 73  ActiveMin                int64  \n",
      " 74  IdleMean                 float64\n",
      " 75  IdleStd                  float64\n",
      " 76  IdleMax                  int64  \n",
      " 77  IdleMin                  int64  \n",
      " 78  Label                    object \n",
      " 79  SourceFile               object \n",
      "dtypes: float64(24), int64(54), object(2)\n",
      "memory usage: 1.7+ GB\n",
      "None\n"
     ]
    },
    {
     "name": "stderr",
     "output_type": "stream",
     "text": [
      "c:\\Users\\Asus\\AppData\\Local\\Programs\\Python\\Python39\\lib\\site-packages\\pandas\\core\\nanops.py:1016: RuntimeWarning: invalid value encountered in subtract\n",
      "  sqr = _ensure_numeric((avg - values) ** 2)\n",
      "c:\\Users\\Asus\\AppData\\Local\\Programs\\Python\\Python39\\lib\\site-packages\\pandas\\core\\nanops.py:1016: RuntimeWarning: invalid value encountered in subtract\n",
      "  sqr = _ensure_numeric((avg - values) ** 2)\n"
     ]
    },
    {
     "name": "stdout",
     "output_type": "stream",
     "text": [
      "       DestinationPort  FlowDuration  TotalFwdPackets  TotalBackwardPackets  \\\n",
      "count     2.830743e+06  2.830743e+06     2.830743e+06          2.830743e+06   \n",
      "mean      8.071483e+03  1.478566e+07     9.361160e+00          1.039377e+01   \n",
      "std       1.828363e+04  3.365374e+07     7.496728e+02          9.973883e+02   \n",
      "min       0.000000e+00 -1.300000e+01     1.000000e+00          0.000000e+00   \n",
      "25%       5.300000e+01  1.550000e+02     2.000000e+00          1.000000e+00   \n",
      "50%       8.000000e+01  3.131600e+04     2.000000e+00          2.000000e+00   \n",
      "75%       4.430000e+02  3.204828e+06     5.000000e+00          4.000000e+00   \n",
      "max       6.553500e+04  1.200000e+08     2.197590e+05          2.919220e+05   \n",
      "\n",
      "       TotalLengthofFwdPackets  TotalLengthofBwdPackets  FwdPacketLengthMax  \\\n",
      "count             2.830743e+06             2.830743e+06        2.830743e+06   \n",
      "mean              5.493024e+02             1.616264e+04        2.075999e+02   \n",
      "std               9.993589e+03             2.263088e+06        7.171848e+02   \n",
      "min               0.000000e+00             0.000000e+00        0.000000e+00   \n",
      "25%               1.200000e+01             0.000000e+00        6.000000e+00   \n",
      "50%               6.200000e+01             1.230000e+02        3.700000e+01   \n",
      "75%               1.870000e+02             4.820000e+02        8.100000e+01   \n",
      "max               1.290000e+07             6.554530e+08        2.482000e+04   \n",
      "\n",
      "       FwdPacketLengthMin  FwdPacketLengthMean  FwdPacketLengthStd  ...  \\\n",
      "count        2.830743e+06         2.830743e+06        2.830743e+06  ...   \n",
      "mean         1.871366e+01         5.820194e+01        6.891013e+01  ...   \n",
      "std          6.033935e+01         1.860912e+02        2.811871e+02  ...   \n",
      "min          0.000000e+00         0.000000e+00        0.000000e+00  ...   \n",
      "25%          0.000000e+00         6.000000e+00        0.000000e+00  ...   \n",
      "50%          2.000000e+00         3.400000e+01        0.000000e+00  ...   \n",
      "75%          3.600000e+01         5.000000e+01        2.616295e+01  ...   \n",
      "max          2.325000e+03         5.940857e+03        7.125597e+03  ...   \n",
      "\n",
      "       act_data_pkt_fwd  min_seg_size_forward    ActiveMean     ActiveStd  \\\n",
      "count      2.830743e+06          2.830743e+06  2.830743e+06  2.830743e+06   \n",
      "mean       5.418218e+00         -2.741688e+03  8.155132e+04  4.113412e+04   \n",
      "std        6.364257e+02          1.084989e+06  6.485999e+05  3.933815e+05   \n",
      "min        0.000000e+00         -5.368707e+08  0.000000e+00  0.000000e+00   \n",
      "25%        0.000000e+00          2.000000e+01  0.000000e+00  0.000000e+00   \n",
      "50%        1.000000e+00          2.400000e+01  0.000000e+00  0.000000e+00   \n",
      "75%        2.000000e+00          3.200000e+01  0.000000e+00  0.000000e+00   \n",
      "max        2.135570e+05          1.380000e+02  1.100000e+08  7.420000e+07   \n",
      "\n",
      "          ActiveMax     ActiveMin      IdleMean       IdleStd       IdleMax  \\\n",
      "count  2.830743e+06  2.830743e+06  2.830743e+06  2.830743e+06  2.830743e+06   \n",
      "mean   1.531825e+05  5.829582e+04  8.316037e+06  5.038439e+05  8.695752e+06   \n",
      "std    1.025825e+06  5.770923e+05  2.363008e+07  4.602984e+06  2.436689e+07   \n",
      "min    0.000000e+00  0.000000e+00  0.000000e+00  0.000000e+00  0.000000e+00   \n",
      "25%    0.000000e+00  0.000000e+00  0.000000e+00  0.000000e+00  0.000000e+00   \n",
      "50%    0.000000e+00  0.000000e+00  0.000000e+00  0.000000e+00  0.000000e+00   \n",
      "75%    0.000000e+00  0.000000e+00  0.000000e+00  0.000000e+00  0.000000e+00   \n",
      "max    1.100000e+08  1.100000e+08  1.200000e+08  7.690000e+07  1.200000e+08   \n",
      "\n",
      "            IdleMin  \n",
      "count  2.830743e+06  \n",
      "mean   7.920031e+06  \n",
      "std    2.336342e+07  \n",
      "min    0.000000e+00  \n",
      "25%    0.000000e+00  \n",
      "50%    0.000000e+00  \n",
      "75%    0.000000e+00  \n",
      "max    1.200000e+08  \n",
      "\n",
      "[8 rows x 78 columns]\n"
     ]
    }
   ],
   "source": [
    "\n",
    "# Đọc tệp CSV\n",
    "data = pd.read_csv(f'.\\Data\\Cypher-CICIDS2017-{today}.csv')\n",
    "\n",
    "# Xem thông tin cơ bản\n",
    "print(data.head())  # Xem vài hàng đầu tiên\n",
    "print(data.info())  # Thông tin về kiểu dữ liệu và giá trị thiếu\n",
    "print(data.describe())  # Thống kê mô tả\n"
   ]
  },
  {
   "cell_type": "code",
   "execution_count": 10,
   "metadata": {},
   "outputs": [
    {
     "name": "stdout",
     "output_type": "stream",
     "text": [
      "Label\n",
      "BENIGN                        2273097\n",
      "DoS Hulk                       231073\n",
      "PortScan                       158930\n",
      "DDoS                           128027\n",
      "DoS GoldenEye                   10293\n",
      "FTP-Patator                      7938\n",
      "SSH-Patator                      5897\n",
      "DoS slowloris                    5796\n",
      "DoS Slowhttptest                 5499\n",
      "Bot                              1966\n",
      "Web Attack � Brute Force         1507\n",
      "Web Attack � XSS                  652\n",
      "Infiltration                       36\n",
      "Web Attack � Sql Injection         21\n",
      "Heartbleed                         11\n",
      "Name: count, dtype: int64\n"
     ]
    },
    {
     "data": {
      "image/png": "[encoded data removed]",
      "text/plain": [
       "<Figure size 640x480 with 1 Axes>"
      ]
     },
     "metadata": {},
     "output_type": "display_data"
    }
   ],
   "source": [
    "# Phân phối nhãn\n",
    "print(data['Label'].value_counts())\n",
    "\n",
    "# Biểu đồ phân phối nhãn\n",
    "data['Label'].value_counts().plot(kind='bar')\n",
    "plt.title(\"Class Distribution\")\n",
    "plt.xlabel(\"Class\")\n",
    "plt.ylabel(\"Frequency\")\n",
    "plt.show()\n"
   ]
  },
  {
   "cell_type": "code",
   "execution_count": 11,
   "metadata": {},
   "outputs": [
    {
     "name": "stdout",
     "output_type": "stream",
     "text": [
      "DestinationPort            0\n",
      "FlowDuration               0\n",
      "TotalFwdPackets            0\n",
      "TotalBackwardPackets       0\n",
      "TotalLengthofFwdPackets    0\n",
      "                          ..\n",
      "IdleStd                    0\n",
      "IdleMax                    0\n",
      "IdleMin                    0\n",
      "Label                      0\n",
      "SourceFile                 0\n",
      "Length: 80, dtype: int64\n"
     ]
    }
   ],
   "source": [
    "# Kiểm tra giá trị thiếu\n",
    "print(data.isnull().sum())\n",
    "\n",
    "# Loại bỏ hoặc thay thế\n",
    "data.fillna(0, inplace=True)  # Thay thế giá trị thiếu bằng 0\n"
   ]
  },
  {
   "cell_type": "code",
   "execution_count": 12,
   "metadata": {},
   "outputs": [],
   "source": [
    "# # Loại bỏ cột không cần thiết\n",
    "# columns_to_drop = ['FlowID', 'SourceIP', 'DestinationIP', 'Timestamp']\n",
    "# data = data.drop(columns=columns_to_drop, errors='ignore')\n"
   ]
  },
  {
   "cell_type": "code",
   "execution_count": 13,
   "metadata": {},
   "outputs": [
    {
     "name": "stderr",
     "output_type": "stream",
     "text": [
      "C:\\Users\\Asus\\AppData\\Local\\Temp\\ipykernel_21180\\2198183619.py:6: SettingWithCopyWarning: \n",
      "A value is trying to be set on a copy of a slice from a DataFrame.\n",
      "Try using .loc[row_indexer,col_indexer] = value instead\n",
      "\n",
      "See the caveats in the documentation: https://pandas.pydata.org/pandas-docs/stable/user_guide/indexing.html#returning-a-view-versus-a-copy\n",
      "  attack_data['Label'] = 'ATTACK'  # Gán nhãn mới cho ATTACK\n"
     ]
    }
   ],
   "source": [
    "# Tổng số mẫu BENIGN\n",
    "benign_count = data[data['Label'] == 'BENIGN'].shape[0]\n",
    "\n",
    "# Tổng số mẫu ATTACK (ngoài BENIGN)\n",
    "attack_data = data[data['Label'] != 'BENIGN']\n",
    "attack_data['Label'] = 'ATTACK'  # Gán nhãn mới cho ATTACK\n",
    "attack_count = attack_data.shape[0]"
   ]
  },
  {
   "cell_type": "code",
   "execution_count": null,
   "metadata": {},
   "outputs": [],
   "source": [
    "attack_data"
   ]
  },
  {
   "cell_type": "code",
   "execution_count": 16,
   "metadata": {},
   "outputs": [
    {
     "data": {
      "text/plain": [
       "2273097"
      ]
     },
     "execution_count": 16,
     "metadata": {},
     "output_type": "execute_result"
    }
   ],
   "source": [
    "benign_count"
   ]
  },
  {
   "cell_type": "code",
   "execution_count": 14,
   "metadata": {},
   "outputs": [],
   "source": [
    "# Lấy mẫu BENIGN cân bằng với ATTACK\n",
    "benign_data = data[data['Label'] == 'BENIGN'].sample(n=attack_count, random_state=42)\n",
    "\n",
    "# Gộp dữ liệu BENIGN và ATTACK lại\n",
    "balanced_data = pd.concat([benign_data, attack_data], ignore_index=True)\n"
   ]
  },
  {
   "cell_type": "code",
   "execution_count": 15,
   "metadata": {},
   "outputs": [
    {
     "name": "stdout",
     "output_type": "stream",
     "text": [
      "Balanced dataset saved to .\\Data\\Cypher-CICIDS2017-balanced-dataset-2024-12-16.csv\n",
      "BENIGN samples: 557646, ATTACK samples: 557646\n"
     ]
    }
   ],
   "source": [
    "# Lưu dữ liệu mới vào file CSV\n",
    "output_file = f\".\\Data\\Cypher-CICIDS2017-balanced-dataset-{today}.csv\"\n",
    "balanced_data.to_csv(output_file, index=False)\n",
    "\n",
    "print(f\"Balanced dataset saved to {output_file}\")\n",
    "print(f\"BENIGN samples: {benign_data.shape[0]}, ATTACK samples: {attack_data.shape[0]}\")"
   ]
  }
 ],
 "metadata": {
  "kernelspec": {
   "display_name": "Python 3",
   "language": "python",
   "name": "python3"
  },
  "language_info": {
   "codemirror_mode": {
    "name": "ipython",
    "version": 3
   },
   "file_extension": ".py",
   "mimetype": "text/x-python",
   "name": "python",
   "nbconvert_exporter": "python",
   "pygments_lexer": "ipython3",
   "version": "3.9.13"
  }
 },
 "nbformat": 4,
 "nbformat_minor": 2
}
